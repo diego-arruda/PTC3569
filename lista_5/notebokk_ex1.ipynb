{
 "cells": [
  {
   "cell_type": "code",
   "execution_count": 1,
   "metadata": {},
   "outputs": [],
   "source": [
    "from __future__ import absolute_import\n",
    "from __future__ import division\n",
    "from __future__ import print_function\n",
    "\n",
    "import numpy as np\n",
    "from tensorflow.keras.models import Sequential\n",
    "from tensorflow.keras.layers import Activation, Dense, Dropout\n",
    "from tensorflow.keras.layers import Conv2D, MaxPooling2D, Flatten\n",
    "from tensorflow.keras.utils import to_categorical, plot_model\n",
    "from tensorflow.keras.datasets import mnist"
   ]
  },
  {
   "cell_type": "code",
   "execution_count": 2,
   "metadata": {},
   "outputs": [],
   "source": [
    "# carregar o dataset\n",
    "(x_train, y_train), (x_test, y_test) = mnist.load_data()"
   ]
  },
  {
   "cell_type": "code",
   "execution_count": 3,
   "metadata": {},
   "outputs": [],
   "source": [
    "# calcular o quantas classes existem\n",
    "num_labels = len(np.unique(y_train))\n",
    "\n",
    "# transformação das classes em valores binários\n",
    "y_train = to_categorical(y_train)\n",
    "y_test = to_categorical(y_test)\n",
    "\n",
    "# definindo a dimensao da imagem\n",
    "image_size = x_train.shape[1]"
   ]
  },
  {
   "cell_type": "code",
   "execution_count": 4,
   "metadata": {},
   "outputs": [
    {
     "name": "stdout",
     "output_type": "stream",
     "text": [
      "(60000, 28, 28)\n"
     ]
    }
   ],
   "source": [
    "print(x_train.shape)"
   ]
  },
  {
   "cell_type": "code",
   "execution_count": 5,
   "metadata": {},
   "outputs": [],
   "source": [
    "# redimensionamento do vetor de entradas\n",
    "x_train = np.reshape(x_train,[-1, image_size, image_size, 1])\n",
    "x_test = np.reshape(x_test,[-1, image_size, image_size, 1])\n",
    "\n",
    "# normalização das entradas\n",
    "x_train = x_train.astype('float32') / 255\n",
    "x_test = x_test.astype('float32') / 255"
   ]
  },
  {
   "cell_type": "code",
   "execution_count": 6,
   "metadata": {},
   "outputs": [],
   "source": [
    "# definindo o tamanho da entrada como sendo o tamanho da imagem com um canal\n",
    "input_shape = (image_size, image_size, 1)\n",
    "\n",
    "# tamanho do batch que será usado no treinamento\n",
    "batch_size = 128\n",
    "\n",
    "# tamanho da janela de convolução\n",
    "kernel_size = 3\n",
    "\n",
    "\n",
    "pool_size = 2\n",
    "filters = 64\n",
    "\n",
    "# dropout rate\n",
    "dropout = 0.2"
   ]
  },
  {
   "cell_type": "code",
   "execution_count": 7,
   "metadata": {},
   "outputs": [
    {
     "name": "stdout",
     "output_type": "stream",
     "text": [
      "Model: \"sequential\"\n",
      "_________________________________________________________________\n",
      " Layer (type)                Output Shape              Param #   \n",
      "=================================================================\n",
      " conv2d (Conv2D)             (None, 26, 26, 64)        640       \n",
      "                                                                 \n",
      " max_pooling2d (MaxPooling2D  (None, 13, 13, 64)       0         \n",
      " )                                                               \n",
      "                                                                 \n",
      " conv2d_1 (Conv2D)           (None, 11, 11, 64)        36928     \n",
      "                                                                 \n",
      " max_pooling2d_1 (MaxPooling  (None, 5, 5, 64)         0         \n",
      " 2D)                                                             \n",
      "                                                                 \n",
      " conv2d_2 (Conv2D)           (None, 3, 3, 64)          36928     \n",
      "                                                                 \n",
      " flatten (Flatten)           (None, 576)               0         \n",
      "                                                                 \n",
      " dropout (Dropout)           (None, 576)               0         \n",
      "                                                                 \n",
      " dense (Dense)               (None, 10)                5770      \n",
      "                                                                 \n",
      " activation (Activation)     (None, 10)                0         \n",
      "                                                                 \n",
      "=================================================================\n",
      "Total params: 80,266\n",
      "Trainable params: 80,266\n",
      "Non-trainable params: 0\n",
      "_________________________________________________________________\n"
     ]
    }
   ],
   "source": [
    "# iniciando a criação da rede neural\n",
    "model = Sequential()\n",
    "\n",
    "# primeira camada convolucional\n",
    "# possui 64 filtros e kernel_size 3x3\n",
    "# já embutida a função de ativação 'relu'\n",
    "# o tamanho da entrada é especificada como sendo o tamanho da imagem\n",
    "model.add(Conv2D(filters=filters,\n",
    "                 kernel_size=kernel_size,\n",
    "                 activation='relu',\n",
    "                 input_shape=input_shape))\n",
    "\n",
    "# pooling de 3, fazendo com que o tamanho vá para (13,13,64)                 \n",
    "model.add(MaxPooling2D(pool_size))\n",
    "\n",
    "# adicionando mais uma convolução ficando com tamanho (11,11,64)\n",
    "model.add(Conv2D(filters=filters,\n",
    "                 kernel_size=kernel_size,\n",
    "                 activation='relu'))\n",
    "\n",
    "# mais uma camada de pooling, com o tamnho indo para (5,5,64)\n",
    "model.add(MaxPooling2D(pool_size))\n",
    "\n",
    "# mais uma camada de convolução com dimensao (3,3,64)\n",
    "model.add(Conv2D(filters=filters,\n",
    "                 kernel_size=kernel_size,\n",
    "                 activation='relu'))\n",
    "\n",
    "# muda o formato para 3x3x64 = 576\n",
    "model.add(Flatten())\n",
    "\n",
    "# dropout added as regularizer\n",
    "# camada dropout adicionada como regularizer, aleatoriamente joga inputs pra 0 com uma certa frequencia, evitando overfitting\n",
    "# não há mudança de tamanho\n",
    "model.add(Dropout(dropout))\n",
    "\n",
    "# camada de saída que compoe um vetor de uns e zeros\n",
    "model.add(Dense(num_labels))\n",
    "\n",
    "# ativação\n",
    "model.add(Activation('softmax'))\n",
    "model.summary()"
   ]
  },
  {
   "cell_type": "code",
   "execution_count": 8,
   "metadata": {},
   "outputs": [
    {
     "name": "stdout",
     "output_type": "stream",
     "text": [
      "Epoch 1/10\n",
      "469/469 [==============================] - 36s 75ms/step - loss: 0.2708 - accuracy: 0.9174\n",
      "Epoch 2/10\n",
      "469/469 [==============================] - 36s 76ms/step - loss: 0.0707 - accuracy: 0.9779\n",
      "Epoch 3/10\n",
      "469/469 [==============================] - 40s 84ms/step - loss: 0.0497 - accuracy: 0.9846\n",
      "Epoch 4/10\n",
      "469/469 [==============================] - 38s 82ms/step - loss: 0.0403 - accuracy: 0.9878\n",
      "Epoch 5/10\n",
      "469/469 [==============================] - 46s 98ms/step - loss: 0.0341 - accuracy: 0.9899\n",
      "Epoch 6/10\n",
      "469/469 [==============================] - 40s 85ms/step - loss: 0.0285 - accuracy: 0.9913\n",
      "Epoch 7/10\n",
      "469/469 [==============================] - 40s 85ms/step - loss: 0.0248 - accuracy: 0.9922\n",
      "Epoch 8/10\n",
      "469/469 [==============================] - 43s 91ms/step - loss: 0.0223 - accuracy: 0.9931\n",
      "Epoch 9/10\n",
      "469/469 [==============================] - 39s 83ms/step - loss: 0.0193 - accuracy: 0.9936\n",
      "Epoch 10/10\n",
      "469/469 [==============================] - 39s 82ms/step - loss: 0.0163 - accuracy: 0.9948\n"
     ]
    },
    {
     "data": {
      "text/plain": [
       "<keras.callbacks.History at 0x1c5a79d1190>"
      ]
     },
     "execution_count": 8,
     "metadata": {},
     "output_type": "execute_result"
    }
   ],
   "source": [
    "# otimizador utilizado é o Adam\n",
    "# função loss categorical_crossentropy utilizado, pois há mais de dois labels\n",
    "model.compile(loss='categorical_crossentropy',\n",
    "              optimizer='adam',\n",
    "              metrics=['accuracy'])\n",
    "\n",
    "              \n",
    "# treinamento da rede com 10 epocas\n",
    "model.fit(x_train, y_train, epochs=10, batch_size=batch_size)"
   ]
  },
  {
   "cell_type": "code",
   "execution_count": 37,
   "metadata": {},
   "outputs": [
    {
     "name": "stdout",
     "output_type": "stream",
     "text": [
      "\n",
      "Test accuracy: 99.3%\n"
     ]
    }
   ],
   "source": [
    "_, acc = model.evaluate(x_test,\n",
    "                        y_test,\n",
    "                        batch_size=batch_size,\n",
    "                        verbose=0)\n",
    "print(\"\\nTest accuracy: %.1f%%\" % (100.0 * acc))"
   ]
  },
  {
   "cell_type": "code",
   "execution_count": 25,
   "metadata": {},
   "outputs": [
    {
     "name": "stdout",
     "output_type": "stream",
     "text": [
      "1875/1875 [==============================] - 10s 5ms/step\n",
      "313/313 [==============================] - 2s 6ms/step\n"
     ]
    }
   ],
   "source": [
    "train_results = model.predict(x_train)\n",
    "test_results = model.predict(x_test)"
   ]
  },
  {
   "cell_type": "code",
   "execution_count": 35,
   "metadata": {},
   "outputs": [
    {
     "name": "stdout",
     "output_type": "stream",
     "text": [
      "Acertos treino em porcentagem: 100.0%\n"
     ]
    }
   ],
   "source": [
    "total_train = len(train_results)\n",
    "correct_train = 0\n",
    "for i,pred in enumerate(train_results):\n",
    "    classification = np.round(pred,0)\n",
    "    if (classification == y_train[i]).all:\n",
    "        correct_train += 1\n",
    "\n",
    "tx_acerto_train = correct_train/total_train\n",
    "print(f'Acertos treino em porcentagem: {tx_acerto_train*100}%')"
   ]
  },
  {
   "cell_type": "code",
   "execution_count": 36,
   "metadata": {},
   "outputs": [
    {
     "name": "stdout",
     "output_type": "stream",
     "text": [
      "Acertos teste em porcentagem: 100.0%\n"
     ]
    }
   ],
   "source": [
    "total_test = len(test_results)\n",
    "correct_test = 0\n",
    "for i,pred in enumerate(test_results):\n",
    "    classification = np.round(pred,0)\n",
    "    if (classification == y_test[i]).all:\n",
    "        correct_test += 1\n",
    "\n",
    "tx_acerto_test = correct_test/total_test\n",
    "print(f'Acertos teste em porcentagem: {tx_acerto_test*100}%')"
   ]
  }
 ],
 "metadata": {
  "kernelspec": {
   "display_name": "Python 3.9.6 64-bit",
   "language": "python",
   "name": "python3"
  },
  "language_info": {
   "codemirror_mode": {
    "name": "ipython",
    "version": 3
   },
   "file_extension": ".py",
   "mimetype": "text/x-python",
   "name": "python",
   "nbconvert_exporter": "python",
   "pygments_lexer": "ipython3",
   "version": "3.9.6"
  },
  "orig_nbformat": 4,
  "vscode": {
   "interpreter": {
    "hash": "1fe4583b8cdbc727a11418515755694579336c566bf16e2a447a66de6ccdfd9c"
   }
  }
 },
 "nbformat": 4,
 "nbformat_minor": 2
}
