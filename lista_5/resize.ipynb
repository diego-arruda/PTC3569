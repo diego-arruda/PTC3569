{
 "cells": [
  {
   "cell_type": "code",
   "execution_count": 7,
   "metadata": {},
   "outputs": [],
   "source": [
    "from PIL import Image"
   ]
  },
  {
   "cell_type": "code",
   "execution_count": 14,
   "metadata": {},
   "outputs": [],
   "source": [
    "from PIL import Image\n",
    "image = Image.open('dog.jpeg')\n",
    "new_image = image.resize((32, 32))\n",
    "new_image.save('dog_32.jpg')"
   ]
  },
  {
   "cell_type": "code",
   "execution_count": 13,
   "metadata": {},
   "outputs": [
    {
     "name": "stdout",
     "output_type": "stream",
     "text": [
      "[[[ 12  19  12]\n",
      "  [ 30  37  30]\n",
      "  [ 46  50  44]\n",
      "  ...\n",
      "  [ 23  49  49]\n",
      "  [ 32  58  52]\n",
      "  [ 41  66  56]]\n",
      "\n",
      " [[ 47  54  49]\n",
      "  [ 61  68  63]\n",
      "  [ 72  78  73]\n",
      "  ...\n",
      "  [ 29  55  55]\n",
      "  [ 32  59  50]\n",
      "  [ 39  65  52]]\n",
      "\n",
      " [[ 59  67  66]\n",
      "  [ 70  78  77]\n",
      "  [ 79  87  86]\n",
      "  ...\n",
      "  [ 40  67  64]\n",
      "  [ 34  61  51]\n",
      "  [ 36  62  48]]\n",
      "\n",
      " ...\n",
      "\n",
      " [[168 184 190]\n",
      "  [171 188 191]\n",
      "  [174 189 192]\n",
      "  ...\n",
      "  [208 216 209]\n",
      "  [226 237 229]\n",
      "  [248 255 251]]\n",
      "\n",
      " [[137 154 157]\n",
      "  [160 177 180]\n",
      "  [175 190 193]\n",
      "  ...\n",
      "  [205 213 206]\n",
      "  [193 204 196]\n",
      "  [201 212 204]]\n",
      "\n",
      " [[165 182 185]\n",
      "  [180 197 200]\n",
      "  [172 187 189]\n",
      "  ...\n",
      "  [209 217 210]\n",
      "  [202 213 205]\n",
      "  [205 216 208]]]\n"
     ]
    }
   ],
   "source": [
    "import cv2\n",
    "\n",
    "image = cv2.imread(\"dog_32.jpg\")\n",
    "print(image)"
   ]
  }
 ],
 "metadata": {
  "kernelspec": {
   "display_name": "Python 3",
   "language": "python",
   "name": "python3"
  },
  "language_info": {
   "codemirror_mode": {
    "name": "ipython",
    "version": 3
   },
   "file_extension": ".py",
   "mimetype": "text/x-python",
   "name": "python",
   "nbconvert_exporter": "python",
   "pygments_lexer": "ipython3",
   "version": "3.9.6"
  },
  "orig_nbformat": 4,
  "vscode": {
   "interpreter": {
    "hash": "1fe4583b8cdbc727a11418515755694579336c566bf16e2a447a66de6ccdfd9c"
   }
  }
 },
 "nbformat": 4,
 "nbformat_minor": 2
}
